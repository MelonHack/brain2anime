{
  "cells": [
    {
      "cell_type": "code",
      "execution_count": null,
      "id": "honestly-boba-is-much-better-imho",
      "metadata": {},
      "outputs": [],
      "source": [
        "print('Hello, world!')"
      ]
    }
  ],
  "metadata": {},
  "nbformat": 4,
  "nbformat_minor": 5
}
