
{
  "cells": [
    {
      "cell_type": "code",
      "execution_count": null,
      "id": "i-love-icecream-its-the-best-thing-in-the-world",
      "metadata": {},
      "outputs": [],
      "source": [
        "print('Hello, world!')"
      ]
    }
  ],
  "metadata": {},
  "nbformat": 4,
  "nbformat_minor": 5
}
