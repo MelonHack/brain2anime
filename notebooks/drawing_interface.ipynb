{
  "cells": [
    {
      "cell_type": "code",
      "execution_count": null,
      "id": "huh-no-more-boring-bot-uuids-so-much-fun-here-hahahhahhahhaa",
      "metadata": {},
      "outputs": [],
      "source": [
        "print('Hello, world!')"
      ]
    }
  ],
  "metadata": {},
  "nbformat": 4,
  "nbformat_minor": 5
}
