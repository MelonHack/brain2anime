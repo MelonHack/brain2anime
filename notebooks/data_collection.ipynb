# Import the necessary functions
from src.eeg_loader import load_eeg_data, filter_data
from src.utils import plot_eeg_data

# Load EEG data
file_path = "data/raw/sample_data.edf"  # Replace with your data path
raw_data = load_eeg_data(file_path)

# Filter the data
filtered_data = filter_data(raw_data)

# Visualize the data
plot_eeg_data(filtered_data)
