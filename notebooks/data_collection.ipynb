{
  "cells": [
    {
      "cell_type": "code",
      "execution_count": null,
      "id": "9c41d8b0",
      "metadata": {},
      "outputs": [],
      "source": [
        "print('Hello, world!')"
      ]
    }
  ],
  "metadata": {},
  "nbformat": 4,
  "nbformat_minor": 5
}